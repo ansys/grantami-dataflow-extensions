{
 "cells": [
  {
   "cell_type": "markdown",
   "id": "04bdbab0-9b24-4921-89f0-6df79bff738c",
   "metadata": {},
   "source": [
    "# Standalone example"
   ]
  },
  {
   "cell_type": "markdown",
   "id": "49438b10-49c1-42c0-a522-93eb7b651463",
   "metadata": {},
   "source": [
    "This notebook provides a best-practice example for using Data Flow Toolkit to interact with a non-Granta MI resource as part of a Data Flow operation."
   ]
  },
  {
   "cell_type": "markdown",
   "id": "50ed85ab-646d-4cfb-80e5-488ac6c9c893",
   "metadata": {},
   "source": [
    "The cell below contains an example script that simply prints the record identifying information which is received from Data Flow. However, this could be replaced with any other business logic which can make use of the data proided by Data Flow. To perform operations that rely on additional information from Granta MI, see the other examples in this package."
   ]
  },
  {
   "cell_type": "markdown",
   "id": "43d0dfa7-d3ea-4152-831c-3e1bc6988dc1",
   "metadata": {},
   "source": [
    "The example script includes the following functions:\n",
    "\n",
    "* `main()`: Instantiates the `MIDataflowIntegration` class, which parses the data passed into this script by Data Flow. Executes the business logic, and resumes the workflow once the business logic has completed.\n",
    "* `testing()`: Includes a static payload which can be provided to the business logic in place of real data for testing purposes\n",
    "* `step_logic()`: Contains the actual business logic for the step. Uses the data provided by Data Flow (or defined statically).\n",
    "\n",
    "Finally, the `if __name__ == \"__main__\":` block is the entry point for the script. It should be set to call the `testing()` function whenever executed outside of Data Flow, but switched to `main()` when added to the workflow definition in Data Flow Designer."
   ]
  },
  {
   "cell_type": "code",
   "execution_count": 1,
   "id": "67d99960-2053-40cf-b583-0ce265aab246",
   "metadata": {},
   "outputs": [
    {
     "name": "stdout",
     "output_type": "stream",
     "text": [
      "A workflow operating on record 'MI_Training' in database 'MI_Training' has triggered this script\n"
     ]
    }
   ],
   "source": [
    "import json\n",
    "\n",
    "from ansys.grantami.dataflow_toolkit import MIDataflowIntegration\n",
    "\n",
    "\n",
    "def main():\n",
    "    \"\"\"Initializes the Data Flow integration module, runs the business logic, and cleans up afterwards.\"\"\"\n",
    "    \n",
    "    df = MIDataflowIntegration()\n",
    "    try:\n",
    "        step_logic(df.mi_session, df.df_data)\n",
    "        exit_code = 0\n",
    "    except Exception as e:\n",
    "        exit_code = 1\n",
    "    df.resume_bookmark(exit_code)\n",
    "\n",
    "\n",
    "def testing():\n",
    "    \"\"\"Contains a static copy of a Data Flow data payload for testing purposes\"\"\"\n",
    "    \n",
    "    dataflow_data = {\n",
    "        \"WorkflowId\": \"806eacd2-3d9a-4a10-b1c1-acd5f7b36b30\",\n",
    "        \"WorkflowDefinitionId\": \"test8; Version=1.0.0.0\",\n",
    "        \"TransitionName\": \"Python_6e407a8b-f8ec-41fc-8879-618bd7c40cda\",\n",
    "        \"Record\": {\n",
    "            \"Database\": \"MI_Training\",\n",
    "            \"Table\": \"Metals Pedigree\",\n",
    "            \"RecordHistoryGuid\": \"d2f51a3d-c274-4a1e-b7c9-8ba2976202cc\",\n",
    "        },\n",
    "        \"WorkflowUrl\": \"http://localhost/mi_workflow_2\",\n",
    "        \"AuthorizationHeader\": \"\",\n",
    "        \"ClientCredentialType\": \"Windows\",\n",
    "        \"Attributes\": {\n",
    "            \"Record\": {\"Value\": [\"d2f51a3d-c274-4a1e-b7c9-8ba2976202cc+MI_Training\"]},\n",
    "            \"TransitionId\": {\"Value\": \"93076607-081e-422b-b819-f15fe833a6e3\"},\n",
    "        },\n",
    "        \"CustomValues\": {},\n",
    "    }\n",
    "\n",
    "    step_logic(dataflow_data)\n",
    "\n",
    "\n",
    "def step_logic(dataflow_data):\n",
    "    \"\"\"Contains the business logic to be executed as part of the workflow.\"\"\"\n",
    "    \n",
    "    db_key = dataflow_data[\"Record\"][\"Database\"]\n",
    "    record_history_guid = dataflow_data[\"Record\"][\"Database\"]\n",
    "    print(f\"A workflow operating on record '{record_history_guid}' in database '{db_key}' has triggered this script\")\n",
    "\n",
    "\n",
    "if __name__ == \"__main__\":\n",
    "    # main()  # Used when running the script as part of a workflow\n",
    "    testing()  # Used when running the script manually\n"
   ]
  }
 ],
 "metadata": {
  "kernelspec": {
   "display_name": "Python 3 (ipykernel)",
   "language": "python",
   "name": "python3"
  },
  "language_info": {
   "codemirror_mode": {
    "name": "ipython",
    "version": 3
   },
   "file_extension": ".py",
   "mimetype": "text/x-python",
   "name": "python",
   "nbconvert_exporter": "python",
   "pygments_lexer": "ipython3",
   "version": "3.12.4"
  }
 },
 "nbformat": 4,
 "nbformat_minor": 5
}
