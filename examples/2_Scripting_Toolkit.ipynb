{
 "cells": [
  {
   "cell_type": "markdown",
   "id": "cc7bc85e-8ee2-4ba6-b76d-2a7d9246b4eb",
   "metadata": {},
   "source": [
    "# Scripting Toolkit Script Example"
   ]
  },
  {
   "cell_type": "markdown",
   "id": "9be35f9d-f1fb-4969-aebb-124f24b71afe",
   "metadata": {},
   "source": [
    "This notebook provides a best-practice example for using Data Flow Toolkit to interact with Granta MI via Scripting Toolkit as part of a Data Flow operation."
   ]
  },
  {
   "cell_type": "markdown",
   "id": "6ef021c8-1654-4b1d-ab06-af43eae6e86e",
   "metadata": {},
   "source": [
    "## Script Overview"
   ]
  },
  {
   "cell_type": "markdown",
   "id": "60fda8d1-f880-464b-9808-71aaf2171fc5",
   "metadata": {},
   "source": [
    "The cell below contains an example script that uploads the data payload received by Data Flow to the workflow record. However, this could be replaced with any other business logic which requires access to Granta MI resources."
   ]
  },
  {
   "cell_type": "markdown",
   "id": "366df6ed-19f6-48b2-b96a-f15759d64156",
   "metadata": {},
   "source": [
    "The example script includes the following functions:\n",
    "\n",
    "* `main()`: Instantiates the `MIDataflowIntegration` class, which parses the data passed into this script by Data Flow. Executes the business logic, and resumes the workflow once the business logic has completed.\n",
    "* `testing()`: Includes a static payload which can be provided to the business logic in place of real data for testing purposes\n",
    "* `step_logic()`: Contains the actual business logic for the step. Uses the data provided by Data Flow (or defined statically).\n",
    "\n",
    "Finally, the `if __name__ == \"__main__\":` block is the entry point for the script. It should be set to call the `testing()` function whenever executed outside of Data Flow, but switched to `main()` when added to the workflow definition in Data Flow Designer."
   ]
  },
  {
   "cell_type": "markdown",
   "id": "b2c9be36-f3cd-4565-a0f7-68eb51ad14f1",
   "metadata": {},
   "source": [
    "## Additional notes"
   ]
  },
  {
   "cell_type": "markdown",
   "id": "ca8ef5c8-3e07-49d4-9a66-6725f7077ca5",
   "metadata": {},
   "source": [
    "This script can be used alongside Data Flow to generate new `dataflow_data` payloads for testing."
   ]
  },
  {
   "cell_type": "code",
   "execution_count": 3,
   "id": "494434f4-c15a-4de6-ab98-a07ae3bb67de",
   "metadata": {},
   "outputs": [
    {
     "name": "stdout",
     "output_type": "stream",
     "text": [
      "Updated MI database\n"
     ]
    }
   ],
   "source": [
    "import json\n",
    "\n",
    "from ansys.grantami.dataflow_toolkit import MIDataflowIntegration\n",
    "\n",
    "\n",
    "def main():\n",
    "    \"\"\"Initializes the Data Flow integration module, runs the business logic, and cleans up afterwards.\"\"\"\n",
    "\n",
    "    df = MIDataflowIntegration()\n",
    "    try:\n",
    "        step_logic(df.mi_session, df.df_data)\n",
    "        exit_code = 0\n",
    "    except Exception as e:\n",
    "        exit_code = 1\n",
    "    df.resume_bookmark(exit_code)\n",
    "\n",
    "\n",
    "def testing():\n",
    "    \"\"\"Contains a static copy of a Data Flow data payload for testing purposes\"\"\"\n",
    "\n",
    "    from GRANTA_MIScriptingToolkit import granta as mpy  # This import is only needed when testing\n",
    "    \n",
    "    session = mpy.connect(service_layer_url=\"http://localhost/mi_servicelayer\", autologon=True)\n",
    "    dataflow_data = {\n",
    "        \"WorkflowId\": \"806eacd2-3d9a-4a10-b1c1-acd5f7b36b30\",\n",
    "        \"WorkflowDefinitionId\": \"test8; Version=1.0.0.0\",\n",
    "        \"TransitionName\": \"Python_6e407a8b-f8ec-41fc-8879-618bd7c40cda\",\n",
    "        \"Record\": {\n",
    "            \"Database\": \"MI_Training\",\n",
    "            \"Table\": \"Metals Pedigree\",\n",
    "            \"RecordHistoryGuid\": \"d2f51a3d-c274-4a1e-b7c9-8ba2976202cc\",\n",
    "        },\n",
    "        \"WorkflowUrl\": \"http://localhost/mi_workflow_2\",\n",
    "        \"AuthorizationHeader\": \"\",\n",
    "        \"ClientCredentialType\": \"Windows\",\n",
    "        \"Attributes\": {\n",
    "            \"Record\": {\"Value\": [\"d2f51a3d-c274-4a1e-b7c9-8ba2976202cc+MI_Training\"]},\n",
    "            \"TransitionId\": {\"Value\": \"93076607-081e-422b-b819-f15fe833a6e3\"},\n",
    "        },\n",
    "        \"CustomValues\": {},\n",
    "    }\n",
    "\n",
    "    step_logic(session, dataflow_data)\n",
    "\n",
    "\n",
    "def step_logic(mi_session, dataflow_data):\n",
    "    \"\"\"Contains the business logic to be executed as part of the workflow.\n",
    "\n",
    "    In this example, identify the record that is the subject of the workflow operation,\n",
    "    and upload the Data Flow payload to that record.\n",
    "    \"\"\"\n",
    "\n",
    "    db_key = dataflow_data[\"Record\"][\"Database\"]\n",
    "    db = mi_session.get_db(db_key=db_key)\n",
    "    record_hguid = dataflow_data[\"Record\"][\"RecordHistoryGuid\"]\n",
    "    rec = db.get_record_by_id(hguid=record_hguid)\n",
    "\n",
    "    # Write the json received from the dataflow API to the attribute \"Additional Processing Notes\"\n",
    "    rec.attributes[\"Additional Processing Notes\"].value = f\"{json.dumps(dataflow_data, indent=4)}\"\n",
    "    rec.set_attributes([rec.attributes[\"Additional Processing Notes\"]])\n",
    "\n",
    "    # Update record database\n",
    "    mi_session.update([rec])\n",
    "    print(\"Updated MI database\")  # This output will be visible in the api/logs page\n",
    "\n",
    "\n",
    "if __name__ == \"__main__\":\n",
    "    \"\"\"\n",
    "    Code entry point\n",
    "    Switch between main() and testing() commenting to run debug the business logic\n",
    "    \"\"\"\n",
    "    # main()\n",
    "    testing()\n"
   ]
  }
 ],
 "metadata": {
  "kernelspec": {
   "display_name": "Python 3 (ipykernel)",
   "language": "python",
   "name": "python3"
  },
  "language_info": {
   "codemirror_mode": {
    "name": "ipython",
    "version": 3
   },
   "file_extension": ".py",
   "mimetype": "text/x-python",
   "name": "python",
   "nbconvert_exporter": "python",
   "pygments_lexer": "ipython3",
   "version": "3.12.4"
  }
 },
 "nbformat": 4,
 "nbformat_minor": 5
}
